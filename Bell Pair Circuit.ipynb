{
 "cells": [
  {
   "cell_type": "code",
   "execution_count": 2,
   "metadata": {
    "scrolled": true
   },
   "outputs": [],
   "source": [
    "from qiskit import QuantumRegister, ClassicalRegister, QuantumCircuit, execute,IBMQ\n",
    "from qiskit.tools.monitor import job_monitor\n",
    "from qiskit.visualization import plot_histogram\n",
    "#All neccessary packages\n",
    "provider = IBMQ.load_account()"
   ]
  },
  {
   "cell_type": "code",
   "execution_count": 3,
   "metadata": {
    "scrolled": true
   },
   "outputs": [],
   "source": [
    "backend = provider.get_backend('ibmq_qasm_simulator')"
   ]
  },
  {
   "cell_type": "code",
   "execution_count": null,
   "metadata": {},
   "outputs": [],
   "source": [
    "#Bell State => 1/√2(|00>+|11>)"
   ]
  },
  {
   "cell_type": "code",
   "execution_count": 23,
   "metadata": {},
   "outputs": [
    {
     "data": {
      "text/html": [
       "<pre style=\"word-wrap: normal;white-space: pre;background: #fff0;line-height: 1.1;font-family: &quot;Courier New&quot;,Courier,monospace\">      ┌───┐┌───┐     ┌─┐   \n",
       "q3_0: ┤ X ├┤ H ├──■──┤M├───\n",
       "      ├───┤└───┘┌─┴─┐└╥┘┌─┐\n",
       "q3_1: ┤ X ├─────┤ X ├─╫─┤M├\n",
       "      └───┘     └───┘ ║ └╥┘\n",
       "c3_0: ════════════════╩══╬═\n",
       "                         ║ \n",
       "c3_1: ═══════════════════╩═\n",
       "                           </pre>"
      ],
      "text/plain": [
       "      ┌───┐┌───┐     ┌─┐   \n",
       "q3_0: ┤ X ├┤ H ├──■──┤M├───\n",
       "      ├───┤└───┘┌─┴─┐└╥┘┌─┐\n",
       "q3_1: ┤ X ├─────┤ X ├─╫─┤M├\n",
       "      └───┘     └───┘ ║ └╥┘\n",
       "c3_0: ════════════════╩══╬═\n",
       "                         ║ \n",
       "c3_1: ═══════════════════╩═\n",
       "                           "
      ]
     },
     "execution_count": 23,
     "metadata": {},
     "output_type": "execute_result"
    }
   ],
   "source": [
    "q = QuantumRegister(2) \n",
    "c = ClassicalRegister(2)\n",
    "qc = QuantumCircuit(q, c)   #Initialization\n",
    "qc.h(q[0])                  #Superposition (50% |0> & 50% |1>)\n",
    "qc.cx(q[0], q[1])           #CNOT Gate\n",
    "qc.measure(q,c) # Measures all qubits \n",
    "qc.draw()"
   ]
  },
  {
   "cell_type": "code",
   "execution_count": 24,
   "metadata": {},
   "outputs": [
    {
     "name": "stdout",
     "output_type": "stream",
     "text": [
      "Executing Job...\n",
      "\n",
      "Job Status: job has successfully run\n",
      "{'01': 519, '10': 505}\n"
     ]
    }
   ],
   "source": [
    "job = execute(qc, backend, shots=1024)\n",
    "print('Executing Job...\\n')                 \n",
    "job_monitor(job)\n",
    "counts = job.result().get_counts()\n",
    "print(counts)"
   ]
  },
  {
   "cell_type": "code",
   "execution_count": 22,
   "metadata": {},
   "outputs": [
    {
     "data": {
      "image/png": "[encoded data removed]",
      "text/plain": [
       "<Figure size 504x360 with 1 Axes>"
      ]
     },
     "execution_count": 22,
     "metadata": {},
     "output_type": "execute_result"
    }
   ],
   "source": [
    "plot_histogram(counts)"
   ]
  },
  {
   "cell_type": "code",
   "execution_count": null,
   "metadata": {},
   "outputs": [],
   "source": [
    "#Bell State => 1/√2(|00>-|11>)"
   ]
  },
  {
   "cell_type": "code",
   "execution_count": 4,
   "metadata": {},
   "outputs": [
    {
     "data": {
      "text/html": [
       "<pre style=\"word-wrap: normal;white-space: pre;background: #fff0;line-height: 1.1;font-family: &quot;Courier New&quot;,Courier,monospace\">      ┌───┐┌───┐     ┌─┐   \n",
       "q0_0: ┤ X ├┤ H ├──■──┤M├───\n",
       "      └───┘└───┘┌─┴─┐└╥┘┌─┐\n",
       "q0_1: ──────────┤ X ├─╫─┤M├\n",
       "                └───┘ ║ └╥┘\n",
       "c0_0: ════════════════╩══╬═\n",
       "                         ║ \n",
       "c0_1: ═══════════════════╩═\n",
       "                           </pre>"
      ],
      "text/plain": [
       "      ┌───┐┌───┐     ┌─┐   \n",
       "q0_0: ┤ X ├┤ H ├──■──┤M├───\n",
       "      └───┘└───┘┌─┴─┐└╥┘┌─┐\n",
       "q0_1: ──────────┤ X ├─╫─┤M├\n",
       "                └───┘ ║ └╥┘\n",
       "c0_0: ════════════════╩══╬═\n",
       "                         ║ \n",
       "c0_1: ═══════════════════╩═\n",
       "                           "
      ]
     },
     "execution_count": 4,
     "metadata": {},
     "output_type": "execute_result"
    }
   ],
   "source": [
    "q = QuantumRegister(2) \n",
    "c = ClassicalRegister(2)\n",
    "qc = QuantumCircuit(q, c)   #Initialization\n",
    "qc.x(q[0])                  #q1=>|0>\n",
    "qc.h(q[0])                  #Superposition (50% |0> & 50% |1>)\n",
    "qc.cx(q[0], q[1])           #CNOT Gate\n",
    "qc.measure(q,c)             # Measures all qubits \n",
    "qc.draw()"
   ]
  },
  {
   "cell_type": "code",
   "execution_count": 5,
   "metadata": {},
   "outputs": [
    {
     "name": "stdout",
     "output_type": "stream",
     "text": [
      "Executing Job...\n",
      "\n",
      "Job Status: job has successfully run\n",
      "{'00': 517, '11': 507}\n"
     ]
    }
   ],
   "source": [
    "job = execute(qc, backend, shots=1024)\n",
    "print('Executing Job...\\n')                 \n",
    "job_monitor(job)\n",
    "counts = job.result().get_counts()\n",
    "print(counts)"
   ]
  },
  {
   "cell_type": "code",
   "execution_count": 6,
   "metadata": {},
   "outputs": [
    {
     "data": {
      "image/png": "[encoded data removed]",
      "text/plain": [
       "<Figure size 504x360 with 1 Axes>"
      ]
     },
     "execution_count": 6,
     "metadata": {},
     "output_type": "execute_result"
    }
   ],
   "source": [
    "plot_histogram(counts)"
   ]
  },
  {
   "cell_type": "code",
   "execution_count": null,
   "metadata": {},
   "outputs": [],
   "source": [
    "#Bell State => 1/√2(|01>+|10>)"
   ]
  },
  {
   "cell_type": "code",
   "execution_count": 7,
   "metadata": {},
   "outputs": [
    {
     "data": {
      "text/html": [
       "<pre style=\"word-wrap: normal;white-space: pre;background: #fff0;line-height: 1.1;font-family: &quot;Courier New&quot;,Courier,monospace\">      ┌───┐     ┌─┐   \n",
       "q1_0: ┤ H ├──■──┤M├───\n",
       "      ├───┤┌─┴─┐└╥┘┌─┐\n",
       "q1_1: ┤ X ├┤ X ├─╫─┤M├\n",
       "      └───┘└───┘ ║ └╥┘\n",
       "c1_0: ═══════════╩══╬═\n",
       "                    ║ \n",
       "c1_1: ══════════════╩═\n",
       "                      </pre>"
      ],
      "text/plain": [
       "      ┌───┐     ┌─┐   \n",
       "q1_0: ┤ H ├──■──┤M├───\n",
       "      ├───┤┌─┴─┐└╥┘┌─┐\n",
       "q1_1: ┤ X ├┤ X ├─╫─┤M├\n",
       "      └───┘└───┘ ║ └╥┘\n",
       "c1_0: ═══════════╩══╬═\n",
       "                    ║ \n",
       "c1_1: ══════════════╩═\n",
       "                      "
      ]
     },
     "execution_count": 7,
     "metadata": {},
     "output_type": "execute_result"
    }
   ],
   "source": [
    "q = QuantumRegister(2) \n",
    "c = ClassicalRegister(2)\n",
    "qc = QuantumCircuit(q, c)   #Initialization\n",
    "qc.x(q[1])                  #q2=>|0>\n",
    "qc.h(q[0])                  #Superposition (50% |0> & 50% |1>)\n",
    "qc.cx(q[0], q[1])           #CNOT Gate\n",
    "qc.measure(q,c)             # Measures all qubits \n",
    "qc.draw()"
   ]
  },
  {
   "cell_type": "code",
   "execution_count": 8,
   "metadata": {},
   "outputs": [
    {
     "name": "stdout",
     "output_type": "stream",
     "text": [
      "Executing Job...\n",
      "\n",
      "Job Status: job has successfully run\n",
      "{'01': 516, '10': 508}\n"
     ]
    }
   ],
   "source": [
    "job = execute(qc, backend, shots=1024)\n",
    "print('Executing Job...\\n')                 \n",
    "job_monitor(job)\n",
    "counts = job.result().get_counts()\n",
    "print(counts)"
   ]
  },
  {
   "cell_type": "code",
   "execution_count": 9,
   "metadata": {},
   "outputs": [
    {
     "data": {
      "image/png": "[encoded data removed]",
      "text/plain": [
       "<Figure size 504x360 with 1 Axes>"
      ]
     },
     "execution_count": 9,
     "metadata": {},
     "output_type": "execute_result"
    }
   ],
   "source": [
    "plot_histogram(counts)"
   ]
  },
  {
   "cell_type": "code",
   "execution_count": null,
   "metadata": {},
   "outputs": [],
   "source": [
    "#Bell State => 1/√2(|01>-|10>)"
   ]
  },
  {
   "cell_type": "code",
   "execution_count": 10,
   "metadata": {},
   "outputs": [
    {
     "data": {
      "text/html": [
       "<pre style=\"word-wrap: normal;white-space: pre;background: #fff0;line-height: 1.1;font-family: &quot;Courier New&quot;,Courier,monospace\">      ┌───┐┌───┐     ┌─┐   \n",
       "q2_0: ┤ X ├┤ H ├──■──┤M├───\n",
       "      ├───┤└───┘┌─┴─┐└╥┘┌─┐\n",
       "q2_1: ┤ X ├─────┤ X ├─╫─┤M├\n",
       "      └───┘     └───┘ ║ └╥┘\n",
       "c2_0: ════════════════╩══╬═\n",
       "                         ║ \n",
       "c2_1: ═══════════════════╩═\n",
       "                           </pre>"
      ],
      "text/plain": [
       "      ┌───┐┌───┐     ┌─┐   \n",
       "q2_0: ┤ X ├┤ H ├──■──┤M├───\n",
       "      ├───┤└───┘┌─┴─┐└╥┘┌─┐\n",
       "q2_1: ┤ X ├─────┤ X ├─╫─┤M├\n",
       "      └───┘     └───┘ ║ └╥┘\n",
       "c2_0: ════════════════╩══╬═\n",
       "                         ║ \n",
       "c2_1: ═══════════════════╩═\n",
       "                           "
      ]
     },
     "execution_count": 10,
     "metadata": {},
     "output_type": "execute_result"
    }
   ],
   "source": [
    "q = QuantumRegister(2) \n",
    "c = ClassicalRegister(2)\n",
    "qc = QuantumCircuit(q, c)   #Initialization\n",
    "qc.x(q[0])                  #q1=>|0>\n",
    "qc.x(q[1])                  #q2=>|0>\n",
    "qc.h(q[0])                  #Superposition (50% |0> & 50% |1>)\n",
    "qc.cx(q[0], q[1])           #CNOT Gate\n",
    "qc.measure(q,c)             # Measures all qubits \n",
    "qc.draw()"
   ]
  },
  {
   "cell_type": "code",
   "execution_count": 11,
   "metadata": {},
   "outputs": [
    {
     "name": "stdout",
     "output_type": "stream",
     "text": [
      "Executing Job...\n",
      "\n",
      "Job Status: job has successfully run\n",
      "{'01': 536, '10': 488}\n"
     ]
    }
   ],
   "source": [
    "job = execute(qc, backend, shots=1024)\n",
    "print('Executing Job...\\n')                 \n",
    "job_monitor(job)\n",
    "counts = job.result().get_counts()\n",
    "print(counts)"
   ]
  },
  {
   "cell_type": "code",
   "execution_count": null,
   "metadata": {},
   "outputs": [],
   "source": [
    "plot_histogram(counts)"
   ]
  }
 ],
 "metadata": {
  "kernelspec": {
   "display_name": "Python 3",
   "language": "python",
   "name": "python3"
  },
  "language_info": {
   "codemirror_mode": {
    "name": "ipython",
    "version": 3
   },
   "file_extension": ".py",
   "mimetype": "text/x-python",
   "name": "python",
   "nbconvert_exporter": "python",
   "pygments_lexer": "ipython3",
   "version": "3.8.2"
  }
 },
 "nbformat": 4,
 "nbformat_minor": 4
}
