{
 "cells": [
  {
   "cell_type": "markdown",
   "metadata": {},
   "source": [
    "# Superdense Coding"
   ]
  },
  {
   "cell_type": "markdown",
   "metadata": {},
   "source": [
    "#### Used for sending 2 classical bits using one qubit."
   ]
  },
  {
   "cell_type": "markdown",
   "metadata": {},
   "source": [
    "#### Eve creates the Bell state and sends 1 qubit each to Alice and Bob.\n",
    "Alice applies some operations to her qubit based on the 2 classical bits she wants to send: (first bit represents Bob's qubit and second - Alice's)\n",
    "\n",
    "| Intended Message | Applied Gate | Resulting State|\n",
    "|:----------------:|:------------:|:--------------:|\n",
    "|$00$             |$I$           |$|00\\rangle + |11\\rangle$|\n",
    "|$10$             |$X$           |$|01\\rangle + |10\\rangle$|\n",
    "|$01$             |$Z$           |$|00\\rangle - |11\\rangle$|\n",
    "|$11$             |$ZX$          |$|10\\rangle - |01\\rangle$|\n",
    "\n",
    "\n",
    "Alice then sends her qubit to Bob, who applies some gates: (first bit represents Bob's qubit and second - Alice's).\\\n",
    "For the CX gates, the second qubit (Alice's) acts as the control and the first acts as the target.\n",
    "\n",
    "| Bob Receives            | After CNOT Gate           | After Hadamard Gate|\n",
    "|:-----------------------:|:-------------------------:|:------------------:|\n",
    "|$|00\\rangle + |11\\rangle$|  $|00\\rangle + |01\\rangle$| $|00\\rangle$       |\n",
    "|$|01\\rangle + |10\\rangle$|  $|11\\rangle + |10\\rangle$| $|10\\rangle$       |\n",
    "|$|00\\rangle - |11\\rangle$|  $|00\\rangle - |01\\rangle$| $|01\\rangle$       |\n",
    "|$|10\\rangle - |01\\rangle$|  $|10\\rangle - |11\\rangle$| $|11\\rangle$       |"
   ]
  },
  {
   "cell_type": "markdown",
   "metadata": {},
   "source": [
    "## Code"
   ]
  },
  {
   "cell_type": "code",
   "execution_count": null,
   "metadata": {},
   "outputs": [],
   "source": [
    "from qiskit import Aer, QuantumCircuit, execute, IBMQ\n",
    "from qiskit.visualization import plot_histogram as plot_h\n",
    "%config InlineBackend.figure_format = 'svg'"
   ]
  },
  {
   "cell_type": "code",
   "execution_count": null,
   "metadata": {},
   "outputs": [],
   "source": [
    "out = 'mpl'\n",
    "backend = Aer.get_backend('qasm_simulator')\n",
    "shots = 1024"
   ]
  },
  {
   "cell_type": "code",
   "execution_count": null,
   "metadata": {},
   "outputs": [],
   "source": [
    "def create_bell_pair(qc, a, b):\n",
    "    qc.h(a)\n",
    "    qc.cx(a,b)"
   ]
  },
  {
   "cell_type": "code",
   "execution_count": null,
   "metadata": {},
   "outputs": [],
   "source": [
    "def encode_msg(qc, qubit, msg):\n",
    "    assert msg in ['00', '01', '10', '11'], \"Invalid message\"\n",
    "    if msg == '00':\n",
    "        pass\n",
    "    elif msg == '10':\n",
    "        qc.x(qubit)\n",
    "    elif msg == '01':\n",
    "        qc.z(qubit)\n",
    "    elif msg == '11':\n",
    "        qc.z(qubit)\n",
    "        qc.x(qubit)   "
   ]
  },
  {
   "cell_type": "code",
   "execution_count": null,
   "metadata": {},
   "outputs": [],
   "source": [
    "def decode_msg(qc, a, b):\n",
    "    qc.cx(a, b)\n",
    "    qc.h(a)"
   ]
  },
  {
   "cell_type": "code",
   "execution_count": null,
   "metadata": {},
   "outputs": [],
   "source": [
    "qc = QuantumCircuit(2)\n",
    "\n",
    "alice = 0\n",
    "bob = 1\n",
    "\n",
    "create_bell_pair(qc, alice, bob)\n",
    "qc.barrier()\n",
    "\n",
    "# Assume, at this point, that qubit 0 goes to Alice and qubit 1 goes to Bob\n",
    "\n",
    "msg = '10'\n",
    "encode_msg(qc, alice, msg)\n",
    "qc.barrier()\n",
    "\n",
    "decode_msg(qc, alice, bob)\n",
    "\n",
    "qc.measure_all()\n",
    "\n",
    "qc.draw(out)"
   ]
  },
  {
   "cell_type": "code",
   "execution_count": null,
   "metadata": {},
   "outputs": [],
   "source": [
    "res = execute(qc, backend).result()\n",
    "counts = res.get_counts()\n",
    "plot_h(counts)"
   ]
  },
  {
   "cell_type": "markdown",
   "metadata": {},
   "source": [
    "#### Executing on a real backend to measure accuracy"
   ]
  },
  {
   "cell_type": "code",
   "execution_count": null,
   "metadata": {},
   "outputs": [],
   "source": [
    "from qiskit.providers.ibmq import least_busy\n",
    "from qiskit.tools.monitor import job_monitor\n",
    "shots = 256"
   ]
  },
  {
   "cell_type": "code",
   "execution_count": null,
   "metadata": {},
   "outputs": [],
   "source": [
    "IBMQ.load_account()"
   ]
  },
  {
   "cell_type": "code",
   "execution_count": null,
   "metadata": {},
   "outputs": [],
   "source": [
    "provider = IBMQ.get_provider(hub='ibm-q')\n",
    "backend = least_busy(provider.backends(filters = lambda x: x.configuration().n_qubits >= 2 \n",
    "                                       and not x.configuration().simulator \n",
    "                                       and x.status().operational == True))\n",
    "print(backend)"
   ]
  },
  {
   "cell_type": "code",
   "execution_count": null,
   "metadata": {},
   "outputs": [],
   "source": [
    "job = execute(qc, backend=backend, shots=256)"
   ]
  },
  {
   "cell_type": "code",
   "execution_count": null,
   "metadata": {},
   "outputs": [],
   "source": [
    "job_monitor(job)"
   ]
  },
  {
   "cell_type": "code",
   "execution_count": null,
   "metadata": {},
   "outputs": [],
   "source": [
    "res = job.result()\n",
    "plot_h(res.get_counts())"
   ]
  },
  {
   "cell_type": "code",
   "execution_count": null,
   "metadata": {},
   "outputs": [],
   "source": [
    "correct_res = res.get_counts()[msg]\n",
    "accuracy = correct_res*100/shots\n",
    "print(\"Accuracy = %.2f%%\" % accuracy)"
   ]
  }
 ],
 "metadata": {
  "kernelspec": {
   "display_name": "Python 3",
   "language": "python",
   "name": "python3"
  },
  "language_info": {
   "codemirror_mode": {
    "name": "ipython",
    "version": 3
   },
   "file_extension": ".py",
   "mimetype": "text/x-python",
   "name": "python",
   "nbconvert_exporter": "python",
   "pygments_lexer": "ipython3",
   "version": "3.8.2"
  },
  "latex_envs": {
   "LaTeX_envs_menu_present": true,
   "autoclose": false,
   "autocomplete": true,
   "bibliofile": "biblio.bib",
   "cite_by": "apalike",
   "current_citInitial": 1,
   "eqLabelWithNumbers": true,
   "eqNumInitial": 1,
   "hotkeys": {
    "equation": "Ctrl-E",
    "itemize": "Ctrl-I"
   },
   "labels_anchors": false,
   "latex_user_defs": false,
   "report_style_numbering": false,
   "user_envs_cfg": false
  },
  "toc": {
   "base_numbering": 1,
   "nav_menu": {},
   "number_sections": true,
   "sideBar": true,
   "skip_h1_title": false,
   "title_cell": "Table of Contents",
   "title_sidebar": "Contents",
   "toc_cell": false,
   "toc_position": {},
   "toc_section_display": true,
   "toc_window_display": false
  }
 },
 "nbformat": 4,
 "nbformat_minor": 4
}
